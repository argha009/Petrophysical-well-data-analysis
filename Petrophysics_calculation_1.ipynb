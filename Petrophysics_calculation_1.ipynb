{
 "cells": [
  {
   "cell_type": "code",
   "execution_count": 1,
   "id": "7dff458a",
   "metadata": {},
   "outputs": [],
   "source": [
    "import numpy as np\n",
    "import matplotlib.pyplot as plt\n",
    "import pandas as pd\n",
    "import seaborn as sns"
   ]
  },
  {
   "cell_type": "code",
   "execution_count": 23,
   "id": "9260f66c",
   "metadata": {},
   "outputs": [
    {
     "data": {
      "text/html": [
       "<div>\n",
       "<style scoped>\n",
       "    .dataframe tbody tr th:only-of-type {\n",
       "        vertical-align: middle;\n",
       "    }\n",
       "\n",
       "    .dataframe tbody tr th {\n",
       "        vertical-align: top;\n",
       "    }\n",
       "\n",
       "    .dataframe thead th {\n",
       "        text-align: right;\n",
       "    }\n",
       "</style>\n",
       "<table border=\"1\" class=\"dataframe\">\n",
       "  <thead>\n",
       "    <tr style=\"text-align: right;\">\n",
       "      <th></th>\n",
       "      <th>DEPTH</th>\n",
       "      <th>CALI</th>\n",
       "      <th>COAL</th>\n",
       "      <th>DT</th>\n",
       "      <th>DT_LOG</th>\n",
       "      <th>DTS</th>\n",
       "      <th>DTS_LOG</th>\n",
       "      <th>GR</th>\n",
       "      <th>NPHI</th>\n",
       "      <th>PHIE</th>\n",
       "      <th>PHIEC</th>\n",
       "      <th>PHIT</th>\n",
       "      <th>PHITC</th>\n",
       "      <th>RHOB</th>\n",
       "      <th>RHOB_LOG</th>\n",
       "      <th>RT</th>\n",
       "      <th>RW</th>\n",
       "      <th>TEMP</th>\n",
       "    </tr>\n",
       "  </thead>\n",
       "  <tbody>\n",
       "    <tr>\n",
       "      <th>0</th>\n",
       "      <td>3500.0183</td>\n",
       "      <td>9.315</td>\n",
       "      <td>0</td>\n",
       "      <td>76.7292</td>\n",
       "      <td>76.7292</td>\n",
       "      <td>157.1754</td>\n",
       "      <td>157.1754</td>\n",
       "      <td>36.621</td>\n",
       "      <td>0.1542</td>\n",
       "      <td>0.1122</td>\n",
       "      <td>0.1098</td>\n",
       "      <td>0.1209</td>\n",
       "      <td>0.1186</td>\n",
       "      <td>2.4602</td>\n",
       "      <td>2.460</td>\n",
       "      <td>1.791</td>\n",
       "      <td>0.0211</td>\n",
       "      <td>94.5855</td>\n",
       "    </tr>\n",
       "    <tr>\n",
       "      <th>1</th>\n",
       "      <td>3500.1707</td>\n",
       "      <td>9.324</td>\n",
       "      <td>0</td>\n",
       "      <td>77.2473</td>\n",
       "      <td>77.2473</td>\n",
       "      <td>158.9566</td>\n",
       "      <td>158.9566</td>\n",
       "      <td>36.374</td>\n",
       "      <td>0.1694</td>\n",
       "      <td>0.1074</td>\n",
       "      <td>0.1060</td>\n",
       "      <td>0.1159</td>\n",
       "      <td>0.1146</td>\n",
       "      <td>2.4680</td>\n",
       "      <td>2.468</td>\n",
       "      <td>1.756</td>\n",
       "      <td>0.0211</td>\n",
       "      <td>94.5897</td>\n",
       "    </tr>\n",
       "    <tr>\n",
       "      <th>2</th>\n",
       "      <td>3500.3231</td>\n",
       "      <td>9.338</td>\n",
       "      <td>0</td>\n",
       "      <td>77.8462</td>\n",
       "      <td>77.8462</td>\n",
       "      <td>159.7642</td>\n",
       "      <td>159.7642</td>\n",
       "      <td>30.748</td>\n",
       "      <td>0.1776</td>\n",
       "      <td>0.1082</td>\n",
       "      <td>0.1079</td>\n",
       "      <td>0.1127</td>\n",
       "      <td>0.1125</td>\n",
       "      <td>2.4730</td>\n",
       "      <td>2.473</td>\n",
       "      <td>1.720</td>\n",
       "      <td>0.0211</td>\n",
       "      <td>94.5940</td>\n",
       "    </tr>\n",
       "    <tr>\n",
       "      <th>3</th>\n",
       "      <td>3500.4755</td>\n",
       "      <td>9.329</td>\n",
       "      <td>0</td>\n",
       "      <td>78.3571</td>\n",
       "      <td>78.3571</td>\n",
       "      <td>158.7547</td>\n",
       "      <td>158.7547</td>\n",
       "      <td>29.795</td>\n",
       "      <td>0.1767</td>\n",
       "      <td>0.1254</td>\n",
       "      <td>0.1226</td>\n",
       "      <td>0.1292</td>\n",
       "      <td>0.1264</td>\n",
       "      <td>2.4471</td>\n",
       "      <td>2.447</td>\n",
       "      <td>1.696</td>\n",
       "      <td>0.0211</td>\n",
       "      <td>94.5982</td>\n",
       "    </tr>\n",
       "    <tr>\n",
       "      <th>4</th>\n",
       "      <td>3500.6279</td>\n",
       "      <td>9.328</td>\n",
       "      <td>0</td>\n",
       "      <td>78.6560</td>\n",
       "      <td>78.6560</td>\n",
       "      <td>157.1320</td>\n",
       "      <td>157.1320</td>\n",
       "      <td>27.346</td>\n",
       "      <td>0.1662</td>\n",
       "      <td>0.1278</td>\n",
       "      <td>0.1249</td>\n",
       "      <td>0.1299</td>\n",
       "      <td>0.1270</td>\n",
       "      <td>2.4460</td>\n",
       "      <td>2.446</td>\n",
       "      <td>1.697</td>\n",
       "      <td>0.0211</td>\n",
       "      <td>94.6025</td>\n",
       "    </tr>\n",
       "  </tbody>\n",
       "</table>\n",
       "</div>"
      ],
      "text/plain": [
       "       DEPTH   CALI  COAL       DT   DT_LOG       DTS   DTS_LOG      GR  \\\n",
       "0  3500.0183  9.315     0  76.7292  76.7292  157.1754  157.1754  36.621   \n",
       "1  3500.1707  9.324     0  77.2473  77.2473  158.9566  158.9566  36.374   \n",
       "2  3500.3231  9.338     0  77.8462  77.8462  159.7642  159.7642  30.748   \n",
       "3  3500.4755  9.329     0  78.3571  78.3571  158.7547  158.7547  29.795   \n",
       "4  3500.6279  9.328     0  78.6560  78.6560  157.1320  157.1320  27.346   \n",
       "\n",
       "     NPHI    PHIE   PHIEC    PHIT   PHITC    RHOB  RHOB_LOG     RT      RW  \\\n",
       "0  0.1542  0.1122  0.1098  0.1209  0.1186  2.4602     2.460  1.791  0.0211   \n",
       "1  0.1694  0.1074  0.1060  0.1159  0.1146  2.4680     2.468  1.756  0.0211   \n",
       "2  0.1776  0.1082  0.1079  0.1127  0.1125  2.4730     2.473  1.720  0.0211   \n",
       "3  0.1767  0.1254  0.1226  0.1292  0.1264  2.4471     2.447  1.696  0.0211   \n",
       "4  0.1662  0.1278  0.1249  0.1299  0.1270  2.4460     2.446  1.697  0.0211   \n",
       "\n",
       "      TEMP  \n",
       "0  94.5855  \n",
       "1  94.5897  \n",
       "2  94.5940  \n",
       "3  94.5982  \n",
       "4  94.6025  "
      ]
     },
     "execution_count": 23,
     "metadata": {},
     "output_type": "execute_result"
    }
   ],
   "source": [
    "df = pd.read_csv('15_9-19.csv',header=0,skiprows=[1])\n",
    "df.head()"
   ]
  },
  {
   "cell_type": "code",
   "execution_count": 31,
   "id": "5f07d6b0",
   "metadata": {},
   "outputs": [
    {
     "data": {
      "text/plain": [
       "(4101, 18)"
      ]
     },
     "execution_count": 31,
     "metadata": {},
     "output_type": "execute_result"
    }
   ],
   "source": [
    "df.shape"
   ]
  },
  {
   "cell_type": "markdown",
   "id": "40dc94da",
   "metadata": {},
   "source": [
    "Looks Like there are 18 columns, each representing a specific well-logging technique...also there are 4102 rows, the first row representing the units. Hence 4101 rows are there."
   ]
  },
  {
   "cell_type": "markdown",
   "id": "6c5bef69",
   "metadata": {},
   "source": [
    "Let us print all the columns (i.e. the well-logging techniques)..."
   ]
  },
  {
   "cell_type": "code",
   "execution_count": 32,
   "id": "94077d40",
   "metadata": {},
   "outputs": [
    {
     "data": {
      "text/plain": [
       "Index(['DEPTH', 'CALI', 'COAL', 'DT', 'DT_LOG', 'DTS', 'DTS_LOG', 'GR', 'NPHI',\n",
       "       'PHIE', 'PHIEC', 'PHIT', 'PHITC', 'RHOB', 'RHOB_LOG', 'RT', 'RW',\n",
       "       'TEMP'],\n",
       "      dtype='object')"
      ]
     },
     "execution_count": 32,
     "metadata": {},
     "output_type": "execute_result"
    }
   ],
   "source": [
    "df.columns"
   ]
  },
  {
   "cell_type": "code",
   "execution_count": 33,
   "id": "e5f70ed1",
   "metadata": {},
   "outputs": [
    {
     "data": {
      "text/plain": [
       "DEPTH        0\n",
       "CALI         0\n",
       "COAL         0\n",
       "DT           0\n",
       "DT_LOG       0\n",
       "DTS          0\n",
       "DTS_LOG      0\n",
       "GR          33\n",
       "NPHI         1\n",
       "PHIE         0\n",
       "PHIEC        0\n",
       "PHIT         0\n",
       "PHITC        0\n",
       "RHOB         0\n",
       "RHOB_LOG     0\n",
       "RT           0\n",
       "RW           0\n",
       "TEMP         0\n",
       "dtype: int64"
      ]
     },
     "execution_count": 33,
     "metadata": {},
     "output_type": "execute_result"
    }
   ],
   "source": [
    "df.isnull().sum()"
   ]
  },
  {
   "cell_type": "markdown",
   "id": "6d481ffd",
   "metadata": {},
   "source": [
    "So there are 33 null values on the Gamma-ray column and 1 null-value on the NPHI (Neutron porosity) column..."
   ]
  },
  {
   "cell_type": "code",
   "execution_count": 36,
   "id": "efc338d6",
   "metadata": {},
   "outputs": [
    {
     "data": {
      "text/plain": [
       "array([ 1.542e-01,  1.694e-01,  1.776e-01, ...,  1.919e-01,  1.922e-01,\n",
       "       -9.990e+02])"
      ]
     },
     "execution_count": 36,
     "metadata": {},
     "output_type": "execute_result"
    }
   ],
   "source": [
    "df.NPHI.unique()"
   ]
  },
  {
   "cell_type": "code",
   "execution_count": 37,
   "id": "24f647ba",
   "metadata": {},
   "outputs": [
    {
     "data": {
      "text/plain": [
       "DEPTH       float64\n",
       "CALI        float64\n",
       "COAL          int64\n",
       "DT          float64\n",
       "DT_LOG      float64\n",
       "DTS         float64\n",
       "DTS_LOG     float64\n",
       "GR          float64\n",
       "NPHI        float64\n",
       "PHIE        float64\n",
       "PHIEC       float64\n",
       "PHIT        float64\n",
       "PHITC       float64\n",
       "RHOB        float64\n",
       "RHOB_LOG    float64\n",
       "RT          float64\n",
       "RW          float64\n",
       "TEMP        float64\n",
       "dtype: object"
      ]
     },
     "execution_count": 37,
     "metadata": {},
     "output_type": "execute_result"
    }
   ],
   "source": [
    "# Checking the datatypes of all the columns\n",
    "\n",
    "df.dtypes"
   ]
  },
  {
   "cell_type": "markdown",
   "id": "8b6b39ca",
   "metadata": {},
   "source": [
    "As we can see, there's an unusual value of -999.0 in the NPHI column..."
   ]
  },
  {
   "cell_type": "markdown",
   "id": "2e7bc66a",
   "metadata": {},
   "source": [
    "Let us print the dataframe for all the rows having NPHI = -999"
   ]
  },
  {
   "cell_type": "code",
   "execution_count": 38,
   "id": "5cb22a82",
   "metadata": {},
   "outputs": [
    {
     "data": {
      "text/html": [
       "<div>\n",
       "<style scoped>\n",
       "    .dataframe tbody tr th:only-of-type {\n",
       "        vertical-align: middle;\n",
       "    }\n",
       "\n",
       "    .dataframe tbody tr th {\n",
       "        vertical-align: top;\n",
       "    }\n",
       "\n",
       "    .dataframe thead th {\n",
       "        text-align: right;\n",
       "    }\n",
       "</style>\n",
       "<table border=\"1\" class=\"dataframe\">\n",
       "  <thead>\n",
       "    <tr style=\"text-align: right;\">\n",
       "      <th></th>\n",
       "      <th>DEPTH</th>\n",
       "      <th>CALI</th>\n",
       "      <th>COAL</th>\n",
       "      <th>DT</th>\n",
       "      <th>DT_LOG</th>\n",
       "      <th>DTS</th>\n",
       "      <th>DTS_LOG</th>\n",
       "      <th>GR</th>\n",
       "      <th>NPHI</th>\n",
       "      <th>PHIE</th>\n",
       "      <th>PHIEC</th>\n",
       "      <th>PHIT</th>\n",
       "      <th>PHITC</th>\n",
       "      <th>RHOB</th>\n",
       "      <th>RHOB_LOG</th>\n",
       "      <th>RT</th>\n",
       "      <th>RW</th>\n",
       "      <th>TEMP</th>\n",
       "    </tr>\n",
       "  </thead>\n",
       "  <tbody>\n",
       "    <tr>\n",
       "      <th>3905</th>\n",
       "      <td>4095.1403</td>\n",
       "      <td>-999.0</td>\n",
       "      <td>-999</td>\n",
       "      <td>-999.0</td>\n",
       "      <td>-999.0</td>\n",
       "      <td>-999.0</td>\n",
       "      <td>-999.0</td>\n",
       "      <td>-999.0</td>\n",
       "      <td>-999.0</td>\n",
       "      <td>-999.0</td>\n",
       "      <td>-999.0</td>\n",
       "      <td>-999.0</td>\n",
       "      <td>-999.0</td>\n",
       "      <td>-999.0</td>\n",
       "      <td>-999.0</td>\n",
       "      <td>-999.0</td>\n",
       "      <td>-999.0</td>\n",
       "      <td>-999.0</td>\n",
       "    </tr>\n",
       "    <tr>\n",
       "      <th>3906</th>\n",
       "      <td>4095.2927</td>\n",
       "      <td>-999.0</td>\n",
       "      <td>-999</td>\n",
       "      <td>-999.0</td>\n",
       "      <td>-999.0</td>\n",
       "      <td>-999.0</td>\n",
       "      <td>-999.0</td>\n",
       "      <td>-999.0</td>\n",
       "      <td>-999.0</td>\n",
       "      <td>-999.0</td>\n",
       "      <td>-999.0</td>\n",
       "      <td>-999.0</td>\n",
       "      <td>-999.0</td>\n",
       "      <td>-999.0</td>\n",
       "      <td>-999.0</td>\n",
       "      <td>-999.0</td>\n",
       "      <td>-999.0</td>\n",
       "      <td>-999.0</td>\n",
       "    </tr>\n",
       "    <tr>\n",
       "      <th>3907</th>\n",
       "      <td>4095.4451</td>\n",
       "      <td>-999.0</td>\n",
       "      <td>-999</td>\n",
       "      <td>-999.0</td>\n",
       "      <td>-999.0</td>\n",
       "      <td>-999.0</td>\n",
       "      <td>-999.0</td>\n",
       "      <td>-999.0</td>\n",
       "      <td>-999.0</td>\n",
       "      <td>-999.0</td>\n",
       "      <td>-999.0</td>\n",
       "      <td>-999.0</td>\n",
       "      <td>-999.0</td>\n",
       "      <td>-999.0</td>\n",
       "      <td>-999.0</td>\n",
       "      <td>-999.0</td>\n",
       "      <td>-999.0</td>\n",
       "      <td>-999.0</td>\n",
       "    </tr>\n",
       "    <tr>\n",
       "      <th>3908</th>\n",
       "      <td>4095.5975</td>\n",
       "      <td>-999.0</td>\n",
       "      <td>-999</td>\n",
       "      <td>-999.0</td>\n",
       "      <td>-999.0</td>\n",
       "      <td>-999.0</td>\n",
       "      <td>-999.0</td>\n",
       "      <td>-999.0</td>\n",
       "      <td>-999.0</td>\n",
       "      <td>-999.0</td>\n",
       "      <td>-999.0</td>\n",
       "      <td>-999.0</td>\n",
       "      <td>-999.0</td>\n",
       "      <td>-999.0</td>\n",
       "      <td>-999.0</td>\n",
       "      <td>-999.0</td>\n",
       "      <td>-999.0</td>\n",
       "      <td>-999.0</td>\n",
       "    </tr>\n",
       "    <tr>\n",
       "      <th>3909</th>\n",
       "      <td>4095.7499</td>\n",
       "      <td>-999.0</td>\n",
       "      <td>-999</td>\n",
       "      <td>-999.0</td>\n",
       "      <td>-999.0</td>\n",
       "      <td>-999.0</td>\n",
       "      <td>-999.0</td>\n",
       "      <td>-999.0</td>\n",
       "      <td>-999.0</td>\n",
       "      <td>-999.0</td>\n",
       "      <td>-999.0</td>\n",
       "      <td>-999.0</td>\n",
       "      <td>-999.0</td>\n",
       "      <td>-999.0</td>\n",
       "      <td>-999.0</td>\n",
       "      <td>-999.0</td>\n",
       "      <td>-999.0</td>\n",
       "      <td>-999.0</td>\n",
       "    </tr>\n",
       "    <tr>\n",
       "      <th>...</th>\n",
       "      <td>...</td>\n",
       "      <td>...</td>\n",
       "      <td>...</td>\n",
       "      <td>...</td>\n",
       "      <td>...</td>\n",
       "      <td>...</td>\n",
       "      <td>...</td>\n",
       "      <td>...</td>\n",
       "      <td>...</td>\n",
       "      <td>...</td>\n",
       "      <td>...</td>\n",
       "      <td>...</td>\n",
       "      <td>...</td>\n",
       "      <td>...</td>\n",
       "      <td>...</td>\n",
       "      <td>...</td>\n",
       "      <td>...</td>\n",
       "      <td>...</td>\n",
       "    </tr>\n",
       "    <tr>\n",
       "      <th>4096</th>\n",
       "      <td>4124.2487</td>\n",
       "      <td>-999.0</td>\n",
       "      <td>-999</td>\n",
       "      <td>-999.0</td>\n",
       "      <td>-999.0</td>\n",
       "      <td>-999.0</td>\n",
       "      <td>-999.0</td>\n",
       "      <td>-999.0</td>\n",
       "      <td>-999.0</td>\n",
       "      <td>-999.0</td>\n",
       "      <td>-999.0</td>\n",
       "      <td>-999.0</td>\n",
       "      <td>-999.0</td>\n",
       "      <td>-999.0</td>\n",
       "      <td>-999.0</td>\n",
       "      <td>-999.0</td>\n",
       "      <td>-999.0</td>\n",
       "      <td>-999.0</td>\n",
       "    </tr>\n",
       "    <tr>\n",
       "      <th>4097</th>\n",
       "      <td>4124.4011</td>\n",
       "      <td>-999.0</td>\n",
       "      <td>-999</td>\n",
       "      <td>-999.0</td>\n",
       "      <td>-999.0</td>\n",
       "      <td>-999.0</td>\n",
       "      <td>-999.0</td>\n",
       "      <td>-999.0</td>\n",
       "      <td>-999.0</td>\n",
       "      <td>-999.0</td>\n",
       "      <td>-999.0</td>\n",
       "      <td>-999.0</td>\n",
       "      <td>-999.0</td>\n",
       "      <td>-999.0</td>\n",
       "      <td>-999.0</td>\n",
       "      <td>-999.0</td>\n",
       "      <td>-999.0</td>\n",
       "      <td>-999.0</td>\n",
       "    </tr>\n",
       "    <tr>\n",
       "      <th>4098</th>\n",
       "      <td>4124.5535</td>\n",
       "      <td>-999.0</td>\n",
       "      <td>-999</td>\n",
       "      <td>-999.0</td>\n",
       "      <td>-999.0</td>\n",
       "      <td>-999.0</td>\n",
       "      <td>-999.0</td>\n",
       "      <td>-999.0</td>\n",
       "      <td>-999.0</td>\n",
       "      <td>-999.0</td>\n",
       "      <td>-999.0</td>\n",
       "      <td>-999.0</td>\n",
       "      <td>-999.0</td>\n",
       "      <td>-999.0</td>\n",
       "      <td>-999.0</td>\n",
       "      <td>-999.0</td>\n",
       "      <td>-999.0</td>\n",
       "      <td>-999.0</td>\n",
       "    </tr>\n",
       "    <tr>\n",
       "      <th>4099</th>\n",
       "      <td>4124.7059</td>\n",
       "      <td>-999.0</td>\n",
       "      <td>-999</td>\n",
       "      <td>-999.0</td>\n",
       "      <td>-999.0</td>\n",
       "      <td>-999.0</td>\n",
       "      <td>-999.0</td>\n",
       "      <td>-999.0</td>\n",
       "      <td>-999.0</td>\n",
       "      <td>-999.0</td>\n",
       "      <td>-999.0</td>\n",
       "      <td>-999.0</td>\n",
       "      <td>-999.0</td>\n",
       "      <td>-999.0</td>\n",
       "      <td>-999.0</td>\n",
       "      <td>-999.0</td>\n",
       "      <td>-999.0</td>\n",
       "      <td>-999.0</td>\n",
       "    </tr>\n",
       "    <tr>\n",
       "      <th>4100</th>\n",
       "      <td>4124.8583</td>\n",
       "      <td>-999.0</td>\n",
       "      <td>-999</td>\n",
       "      <td>-999.0</td>\n",
       "      <td>-999.0</td>\n",
       "      <td>-999.0</td>\n",
       "      <td>-999.0</td>\n",
       "      <td>-999.0</td>\n",
       "      <td>-999.0</td>\n",
       "      <td>-999.0</td>\n",
       "      <td>-999.0</td>\n",
       "      <td>-999.0</td>\n",
       "      <td>-999.0</td>\n",
       "      <td>-999.0</td>\n",
       "      <td>-999.0</td>\n",
       "      <td>-999.0</td>\n",
       "      <td>-999.0</td>\n",
       "      <td>-999.0</td>\n",
       "    </tr>\n",
       "  </tbody>\n",
       "</table>\n",
       "<p>196 rows × 18 columns</p>\n",
       "</div>"
      ],
      "text/plain": [
       "          DEPTH   CALI  COAL     DT  DT_LOG    DTS  DTS_LOG     GR   NPHI  \\\n",
       "3905  4095.1403 -999.0  -999 -999.0  -999.0 -999.0   -999.0 -999.0 -999.0   \n",
       "3906  4095.2927 -999.0  -999 -999.0  -999.0 -999.0   -999.0 -999.0 -999.0   \n",
       "3907  4095.4451 -999.0  -999 -999.0  -999.0 -999.0   -999.0 -999.0 -999.0   \n",
       "3908  4095.5975 -999.0  -999 -999.0  -999.0 -999.0   -999.0 -999.0 -999.0   \n",
       "3909  4095.7499 -999.0  -999 -999.0  -999.0 -999.0   -999.0 -999.0 -999.0   \n",
       "...         ...    ...   ...    ...     ...    ...      ...    ...    ...   \n",
       "4096  4124.2487 -999.0  -999 -999.0  -999.0 -999.0   -999.0 -999.0 -999.0   \n",
       "4097  4124.4011 -999.0  -999 -999.0  -999.0 -999.0   -999.0 -999.0 -999.0   \n",
       "4098  4124.5535 -999.0  -999 -999.0  -999.0 -999.0   -999.0 -999.0 -999.0   \n",
       "4099  4124.7059 -999.0  -999 -999.0  -999.0 -999.0   -999.0 -999.0 -999.0   \n",
       "4100  4124.8583 -999.0  -999 -999.0  -999.0 -999.0   -999.0 -999.0 -999.0   \n",
       "\n",
       "       PHIE  PHIEC   PHIT  PHITC   RHOB  RHOB_LOG     RT     RW   TEMP  \n",
       "3905 -999.0 -999.0 -999.0 -999.0 -999.0    -999.0 -999.0 -999.0 -999.0  \n",
       "3906 -999.0 -999.0 -999.0 -999.0 -999.0    -999.0 -999.0 -999.0 -999.0  \n",
       "3907 -999.0 -999.0 -999.0 -999.0 -999.0    -999.0 -999.0 -999.0 -999.0  \n",
       "3908 -999.0 -999.0 -999.0 -999.0 -999.0    -999.0 -999.0 -999.0 -999.0  \n",
       "3909 -999.0 -999.0 -999.0 -999.0 -999.0    -999.0 -999.0 -999.0 -999.0  \n",
       "...     ...    ...    ...    ...    ...       ...    ...    ...    ...  \n",
       "4096 -999.0 -999.0 -999.0 -999.0 -999.0    -999.0 -999.0 -999.0 -999.0  \n",
       "4097 -999.0 -999.0 -999.0 -999.0 -999.0    -999.0 -999.0 -999.0 -999.0  \n",
       "4098 -999.0 -999.0 -999.0 -999.0 -999.0    -999.0 -999.0 -999.0 -999.0  \n",
       "4099 -999.0 -999.0 -999.0 -999.0 -999.0    -999.0 -999.0 -999.0 -999.0  \n",
       "4100 -999.0 -999.0 -999.0 -999.0 -999.0    -999.0 -999.0 -999.0 -999.0  \n",
       "\n",
       "[196 rows x 18 columns]"
      ]
     },
     "execution_count": 38,
     "metadata": {},
     "output_type": "execute_result"
    }
   ],
   "source": [
    "df[df.NPHI==-999]"
   ]
  },
  {
   "cell_type": "markdown",
   "id": "1c9b8dfe",
   "metadata": {},
   "source": [
    "As we can see, not only NPHI but all the rows having the same -999 value. Hence, it can be easily assumed that these are\n",
    "garbedge values. There are 196 rows of garbedge value out of 4101 rows."
   ]
  },
  {
   "cell_type": "code",
   "execution_count": 40,
   "id": "e4f46bec",
   "metadata": {},
   "outputs": [
    {
     "data": {
      "text/html": [
       "<div>\n",
       "<style scoped>\n",
       "    .dataframe tbody tr th:only-of-type {\n",
       "        vertical-align: middle;\n",
       "    }\n",
       "\n",
       "    .dataframe tbody tr th {\n",
       "        vertical-align: top;\n",
       "    }\n",
       "\n",
       "    .dataframe thead th {\n",
       "        text-align: right;\n",
       "    }\n",
       "</style>\n",
       "<table border=\"1\" class=\"dataframe\">\n",
       "  <thead>\n",
       "    <tr style=\"text-align: right;\">\n",
       "      <th></th>\n",
       "      <th>DEPTH</th>\n",
       "      <th>CALI</th>\n",
       "      <th>COAL</th>\n",
       "      <th>DT</th>\n",
       "      <th>DT_LOG</th>\n",
       "      <th>DTS</th>\n",
       "      <th>DTS_LOG</th>\n",
       "      <th>GR</th>\n",
       "      <th>NPHI</th>\n",
       "      <th>PHIE</th>\n",
       "      <th>PHIEC</th>\n",
       "      <th>PHIT</th>\n",
       "      <th>PHITC</th>\n",
       "      <th>RHOB</th>\n",
       "      <th>RHOB_LOG</th>\n",
       "      <th>RT</th>\n",
       "      <th>RW</th>\n",
       "      <th>TEMP</th>\n",
       "    </tr>\n",
       "  </thead>\n",
       "  <tbody>\n",
       "  </tbody>\n",
       "</table>\n",
       "</div>"
      ],
      "text/plain": [
       "Empty DataFrame\n",
       "Columns: [DEPTH, CALI, COAL, DT, DT_LOG, DTS, DTS_LOG, GR, NPHI, PHIE, PHIEC, PHIT, PHITC, RHOB, RHOB_LOG, RT, RW, TEMP]\n",
       "Index: []"
      ]
     },
     "execution_count": 40,
     "metadata": {},
     "output_type": "execute_result"
    }
   ],
   "source": [
    "df[df.NPHI == np.nan]"
   ]
  },
  {
   "cell_type": "markdown",
   "id": "ca2bdede",
   "metadata": {},
   "source": [
    "Let us replace the -999 values with np.nan values"
   ]
  },
  {
   "cell_type": "code",
   "execution_count": 44,
   "id": "cf7f4923",
   "metadata": {},
   "outputs": [
    {
     "data": {
      "text/plain": [
       "DEPTH         0\n",
       "CALI        196\n",
       "COAL        196\n",
       "DT          196\n",
       "DT_LOG      196\n",
       "DTS         196\n",
       "DTS_LOG     196\n",
       "GR          284\n",
       "NPHI        197\n",
       "PHIE        259\n",
       "PHIEC       259\n",
       "PHIT        259\n",
       "PHITC       259\n",
       "RHOB        199\n",
       "RHOB_LOG    198\n",
       "RT          196\n",
       "RW          259\n",
       "TEMP        196\n",
       "dtype: int64"
      ]
     },
     "execution_count": 44,
     "metadata": {},
     "output_type": "execute_result"
    }
   ],
   "source": [
    "df.replace(-999,np.nan,inplace=True)\n",
    "df.isnull().sum()"
   ]
  },
  {
   "cell_type": "code",
   "execution_count": 54,
   "id": "5c552868",
   "metadata": {},
   "outputs": [
    {
     "data": {
      "text/plain": [
       "Text(0.5, 0, 'GR-log')"
      ]
     },
     "execution_count": 54,
     "metadata": {},
     "output_type": "execute_result"
    },
    {
     "data": {
      "image/png": "[encoded data removed]",
      "text/plain": [
       "<Figure size 432x288 with 1 Axes>"
      ]
     },
     "metadata": {
      "needs_background": "light"
     },
     "output_type": "display_data"
    }
   ],
   "source": [
    "sns.histplot(data= df,bins=230,x=\"GR\")\n",
    "plt.xlim(0,250)\n",
    "plt.xlabel('GR-log')"
   ]
  },
  {
   "cell_type": "markdown",
   "id": "d1f2c3ac",
   "metadata": {},
   "source": [
    "# Shale Volumne Function (Vsh)"
   ]
  },
  {
   "cell_type": "code",
   "execution_count": 64,
   "id": "cc9f7c5f",
   "metadata": {},
   "outputs": [],
   "source": [
    "def v_shale(gamma_ray,gamma_ray_max,gamma_ray_min):\n",
    "    v_sh = (gamma_ray - gamma_ray_min)/(gamma_ray_max - gamma_ray_min)\n",
    "    return round(v_sh,4)"
   ]
  },
  {
   "cell_type": "code",
   "execution_count": 65,
   "id": "9318a485",
   "metadata": {},
   "outputs": [
    {
     "data": {
      "text/plain": [
       "0.5"
      ]
     },
     "execution_count": 65,
     "metadata": {},
     "output_type": "execute_result"
    }
   ],
   "source": [
    "v_shale(10,15,5)   # to check if it is working fine or not"
   ]
  },
  {
   "cell_type": "markdown",
   "id": "08f5b97e",
   "metadata": {},
   "source": [
    "# Density Porosity Function (DPHI)"
   ]
  },
  {
   "cell_type": "code",
   "execution_count": 62,
   "id": "5371ae99",
   "metadata": {},
   "outputs": [],
   "source": [
    "def density_porosity(log_density,matrix_density,fluid_density):\n",
    "    d_phi = (matrix_density - log_density)/(matrix_density - fluid_density)\n",
    "    return round(d_phi,4)"
   ]
  },
  {
   "cell_type": "code",
   "execution_count": 63,
   "id": "6d842ef0",
   "metadata": {},
   "outputs": [
    {
     "data": {
      "text/plain": [
       "0.5577"
      ]
     },
     "execution_count": 63,
     "metadata": {},
     "output_type": "execute_result"
    }
   ],
   "source": [
    "density_porosity(25.337,31.56879,20.3943)"
   ]
  },
  {
   "cell_type": "code",
   "execution_count": null,
   "id": "82d77040",
   "metadata": {},
   "outputs": [],
   "source": []
  }
 ],
 "metadata": {
  "kernelspec": {
   "display_name": "Python 3 (ipykernel)",
   "language": "python",
   "name": "python3"
  },
  "language_info": {
   "codemirror_mode": {
    "name": "ipython",
    "version": 3
   },
   "file_extension": ".py",
   "mimetype": "text/x-python",
   "name": "python",
   "nbconvert_exporter": "python",
   "pygments_lexer": "ipython3",
   "version": "3.9.12"
  }
 },
 "nbformat": 4,
 "nbformat_minor": 5
}
